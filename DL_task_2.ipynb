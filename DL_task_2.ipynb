{
  "cells": [
    {
      "cell_type": "markdown",
      "metadata": {
        "id": "OdGtPlC-sz3A"
      },
      "source": [
        "# **LM на базе LSTM**\n",
        "*Домашнее задание №2 по курсу \"Прикладная алгебра\", вариант №3*\n",
        "\n",
        "---\n",
        "\n",
        "Выполнил студент 317 группы Зиннуров А.Р.\n"
      ]
    },
    {
      "cell_type": "markdown",
      "metadata": {
        "id": "i8Wx5y71ueNn"
      },
      "source": [
        "**Постановка задачи:** \n",
        "* Сделать LM на базе **LSTM**.\n",
        "* Выбрать корпус для обучения. \n",
        "* Поэкспериментировать с разными гиперпараметрами (размерность скрытого представления, число слоёв и т.п.)\n",
        "* Оценить качество генерируемого текста.\n",
        "\n",
        "**Long Short-Term Memory (LSTM)** - это разновидность рекурентных нейронных сетей (**Recurrent Neural Network, RNN**) со следующей архитектурой:\n",
        "\n",
        "$$\n",
        "\\begin{aligned}\n",
        "i_{t} &=\\sigma\\left(W_{i i} x_{t}+b_{i i}+W_{h i} h_{t-1}+b_{h i}\\right) \\\\\n",
        "f_{t} &=\\sigma\\left(W_{i f} x_{t}+b_{i f}+W_{h f} h_{t-1}+b_{h f}\\right) \\\\\n",
        "g_{t} &=\\tanh \\left(W_{i g} x_{t}+b_{i g}+W_{h g} h_{t-1}+b_{h g}\\right) \\\\\n",
        "o_{t} &=\\sigma\\left(W_{i o} x_{t}+b_{i o}+W_{h o} h_{t-1}+b_{h o}\\right) \\\\\n",
        "c_{t} &=f_{t} \\odot c_{t-1}+i_{t} \\odot g_{t} \\\\\n",
        "h_{t} &=o_{t} \\odot \\tanh \\left(c_{t}\\right)\n",
        "\\end{aligned}\n",
        "$$\n",
        "\n",
        "<center><img src=https://miro.medium.com/max/863/0*8rj0qHLOBK6t7L2z.png alt=\"image\" width=\"600\"/></center>\n",
        "\n",
        "**Языковая модель (Language Model, LM)** - модель порождения новых слов, букв и т.д., которая назначает вероятности словам и предложениям.\n",
        "\n",
        "<center><img src=https://blog.feedly.com/wp-content/uploads/2019/03/Screen-Shot-2019-03-06-at-12.08.35-PM.png alt=\"image\" width=\"600\"/></center>\n",
        "\n",
        "**Детали реализации:**\n",
        "* Языковая модель обучается на словах.\n",
        "* В качестве функции потерь используется кросс-энтропия.\n",
        "* Датасет: **Large Movie Review Dataset**."
      ]
    },
    {
      "cell_type": "markdown",
      "metadata": {
        "id": "H0VD72RykAPI"
      },
      "source": [
        "### Импорты, константы, девайс"
      ]
    },
    {
      "cell_type": "code",
      "execution_count": 130,
      "metadata": {
        "colab": {
          "base_uri": "https://localhost:8080/"
        },
        "id": "I-YfPnhwN4Bg",
        "outputId": "dac1a2fd-edea-4ddd-800c-b387f02a1109"
      },
      "outputs": [
        {
          "output_type": "stream",
          "name": "stdout",
          "text": [
            "[nltk_data] Downloading package stopwords to /root/nltk_data...\n",
            "[nltk_data]   Package stopwords is already up-to-date!\n"
          ]
        }
      ],
      "source": [
        "import os\n",
        "import time\n",
        "import regex\n",
        "import numpy as np\n",
        "from functools import partial\n",
        "import matplotlib.pyplot as plt\n",
        "from collections import defaultdict\n",
        "\n",
        "import nltk\n",
        "nltk.download(\"stopwords\")\n",
        "\n",
        "import torch\n",
        "import torchtext\n",
        "from torch import nn\n",
        "from torch.nn.functional import softmax\n",
        "from torch.utils.data import Dataset, DataLoader\n",
        "from torch.nn.utils.rnn import pack_padded_sequence\n",
        "\n",
        "STOPWORDS = nltk.corpus.stopwords.words(\"english\")"
      ]
    },
    {
      "cell_type": "code",
      "source": [
        "# Девайс\n",
        "dtype, device, cuda_device_id = torch.float32, None, 0\n",
        "os.environ[\"CUDA_VISIBLE_DEVICES\"] = \"{0}\".format(str(cuda_device_id) if cuda_device_id is not None else '')\n",
        "if cuda_device_id is not None and torch.cuda.is_available():\n",
        "    device = \"cuda:{0:d}\".format(0)\n",
        "else:\n",
        "    device = torch.device(\"cpu\")\n",
        "print(f\"Using device: {device}, dtype: {dtype}\")"
      ],
      "metadata": {
        "colab": {
          "base_uri": "https://localhost:8080/"
        },
        "id": "lC12LaB7H6BK",
        "outputId": "02733223-57b3-416c-9548-6a34d2c33eb8"
      },
      "execution_count": 131,
      "outputs": [
        {
          "output_type": "stream",
          "name": "stdout",
          "text": [
            "Using device: cuda:0, dtype: torch.float32\n"
          ]
        }
      ]
    },
    {
      "cell_type": "markdown",
      "source": [
        "### Загрузка датасета"
      ],
      "metadata": {
        "id": "9i_l1EL6I-I0"
      }
    },
    {
      "cell_type": "markdown",
      "metadata": {
        "id": "BkyIls_UCclc"
      },
      "source": [
        "В качестве датасета используется [**Large Movie Review Dataset**](https://ai.stanford.edu/~amaas/data/sentiment/) - датасет с рецензиями на фильмы."
      ]
    },
    {
      "cell_type": "code",
      "execution_count": 132,
      "metadata": {
        "colab": {
          "base_uri": "https://localhost:8080/"
        },
        "id": "UePVg2X3NrJF",
        "outputId": "520a9726-19de-4975-85b5-288f7e62dbd2"
      },
      "outputs": [
        {
          "output_type": "stream",
          "name": "stdout",
          "text": [
            "--2022-06-01 12:34:39--  https://ai.stanford.edu/~amaas/data/sentiment/aclImdb_v1.tar.gz\n",
            "Resolving ai.stanford.edu (ai.stanford.edu)... 171.64.68.10\n",
            "Connecting to ai.stanford.edu (ai.stanford.edu)|171.64.68.10|:443... connected.\n",
            "HTTP request sent, awaiting response... 200 OK\n",
            "Length: 84125825 (80M) [application/x-gzip]\n",
            "Saving to: ‘aclImdb_v1.tar.gz.1’\n",
            "\n",
            "aclImdb_v1.tar.gz.1 100%[===================>]  80.23M  68.5MB/s    in 1.2s    \n",
            "\n",
            "2022-06-01 12:34:40 (68.5 MB/s) - ‘aclImdb_v1.tar.gz.1’ saved [84125825/84125825]\n",
            "\n"
          ]
        }
      ],
      "source": [
        "!wget \"https://ai.stanford.edu/~amaas/data/sentiment/aclImdb_v1.tar.gz\""
      ]
    },
    {
      "cell_type": "code",
      "execution_count": null,
      "metadata": {
        "id": "3abipM2YNzQ4"
      },
      "outputs": [],
      "source": [
        "!pip install torchtext==0.12.0\n",
        "!tar -xzf aclImdb_v1.tar.gz"
      ]
    },
    {
      "cell_type": "code",
      "execution_count": 134,
      "metadata": {
        "id": "u1UvWVMCN8DV"
      },
      "outputs": [],
      "source": [
        "test_data_path = \"aclImdb/test/\"\n",
        "train_data_path = \"aclImdb/train/\""
      ]
    },
    {
      "cell_type": "markdown",
      "source": [
        "### Дополнительные функции"
      ],
      "metadata": {
        "id": "KIHn7q1QHdT5"
      }
    },
    {
      "cell_type": "code",
      "execution_count": 135,
      "metadata": {
        "id": "PKOWQkuYN_sY"
      },
      "outputs": [],
      "source": [
        "def tokenize(text):\n",
        "    \"\"\"\n",
        "    Функция токенизации.\n",
        "      1) Приводит текст к нижнему регистру.\n",
        "      2) Убирает html разметку из текстов (<br />).\n",
        "      3) Убирает все символы кроме латинских букв.\n",
        "      4) Разбивает строку по пробелам.\n",
        "      5) Убирает стоп слова.\n",
        "\n",
        "    :param str text: Input text\n",
        "    :return List[str]: List of words\n",
        "    \"\"\"\n",
        "    text = text.lower()\n",
        "    text = regex.sub(\"<.*?>\", '', text)\n",
        "    text = ''.join(c for c in text if c.isalpha() or (c == ' '))\n",
        "    list_words = text.split()\n",
        "    list_words = [word for word in list_words if word not in STOPWORDS]\n",
        "    return list_words"
      ]
    },
    {
      "cell_type": "code",
      "source": [
        "def collate_fn(batch, padding_value, batch_first=False):\n",
        "    \"\"\"\n",
        "    Функция для объединения списка объектов в один батч.\n",
        "\n",
        "    :param List[Dict] batch: List of objects from dataset\n",
        "    :param int padding_value: Value that will be used to pad tokens\n",
        "    :param bool batch_first: If True resulting tensor with tokens must have shape [B, T] otherwise [T, B]\n",
        "    :return dict: Dictionary with all data collated\n",
        "        {\n",
        "            'ratings' torch.tensor(dtype=torch.long): rating of the text for each object in batch\n",
        "            'labels' torch.tensor(dtype=torch.long): sentiment of the text for each object in batch\n",
        "            'texts' List[str]: All texts in one list\n",
        "            'tokens' torch.tensor(dtype=torch.long): tensor of tokens ids padded with @padding_value\n",
        "            'tokens_lens' torch.tensor(dtype=torch.long): number of tokens for each object in batch\n",
        "        }\n",
        "    \"\"\"\n",
        "    dict_output = {}\n",
        "    dict_output[\"ratings\"] = torch.tensor([obj[\"rating\"].item() for obj in batch], dtype=torch.long)\n",
        "    dict_output[\"labels\"] = torch.tensor([obj[\"label\"].item() for obj in batch], dtype=torch.long)\n",
        "    dict_output[\"texts\"] = [obj[\"text\"] for obj in batch]\n",
        "    dict_output[\"tokens\"] = torch.nn.utils.rnn.pad_sequence([obj[\"tokens\"] for obj in batch],\n",
        "                                                            batch_first=batch_first,\n",
        "                                                            padding_value=padding_value)\n",
        "    dict_output[\"tokens_lens\"] = torch.tensor([obj[\"tokens_len\"].item() for obj in batch], dtype=torch.long)\n",
        "    return dict_output"
      ],
      "metadata": {
        "id": "yBAnWqCbHw8v"
      },
      "execution_count": 136,
      "outputs": []
    },
    {
      "cell_type": "code",
      "source": [
        "def print_text(lm_model, start_tokens, start_tokens_lens, decoded_tokens, decoded_lens):\n",
        "    \"\"\"\n",
        "    Печать сгенерированного текста.\n",
        "\n",
        "    :param torch.tensor lm_model: lm model\n",
        "    :param torch.tensor start_tokens: starting tokens\n",
        "    :param torch.tensor start_tokens_lens: number of tokens for each object in batch\n",
        "    :param torch.tensor decoded_tokens: decoded tokens\n",
        "    :param torch.tensor decoded_lens: number of tokens for each object in batch\n",
        "    \"\"\"\n",
        "    for text_idx in range(start_tokens.shape[1]):\n",
        "        decoded_text_tokens = decoded_tokens[:decoded_lens[text_idx], text_idx]\n",
        "        tokens = start_tokens[:start_tokens_lens[text_idx], text_idx].tolist() + decoded_text_tokens.tolist()\n",
        "        words = np.array(lm_model.vocab.get_itos())[np.array(tokens)]\n",
        "        print(' '.join(words))"
      ],
      "metadata": {
        "id": "LBjh6GRtPPv6"
      },
      "execution_count": 137,
      "outputs": []
    },
    {
      "cell_type": "code",
      "source": [
        "def print_graphic(list_train_losses, list_train_accuracies, list_test_losses,\n",
        "                  list_test_accuracies, list_params=None, figsize=(20, 8)):\n",
        "    \"\"\"\n",
        "    Функция печати графика.\n",
        "\n",
        "    :param List(torch.tensor) list_train_losses: list losses on train\n",
        "    :param List(torch.tensor) list_train_accuracies: list accuracies on train\n",
        "    :param List(torch.tensor) list_test_losses: list losses on test\n",
        "    :param List(torch.tensor) list_test_accuracies: list accuracies on test\n",
        "    :param List(int), options list_params: list of parameters\n",
        "    :param Tuple(int, int), options figsize: graph size\n",
        "    \"\"\"\n",
        "    fig = plt.figure(figsize=figsize)\n",
        "    colors = ['g', 'c', 'm', 'b', 'y', 'k', 'r'] # 7\n",
        "\n",
        "    plt.subplot(1, 2, 1)\n",
        "    plt.title(\"Зав-ть CrossEntropy от номера эпохи\", fontsize=15)    \n",
        "    plt.xlabel(\"Номер эпохи\", fontsize=12)\n",
        "    plt.ylabel(\"CrossEntropy\", fontsize=12)\n",
        "    position = list(range(len(list_train_losses[0])))\n",
        "    for i in range(len(list_train_losses)):\n",
        "        if not list_params:\n",
        "            label = ''\n",
        "        else:\n",
        "            label = f\": {list_params[i]}\"\n",
        "        plt.plot(position, list_train_losses[i], linestyle='--', c=colors[i], label=\"train\" + label)\n",
        "        plt.plot(position, list_test_losses[i], linestyle='-', c=colors[i], label=\"test\" + label)\n",
        "    plt.legend(fontsize=12)\n",
        "    plt.grid()\n",
        "\n",
        "    plt.subplot(1, 2, 2)\n",
        "    plt.title(\"Зав-ть Accuracy от номера эпохи\", fontsize=15)    \n",
        "    plt.xlabel(\"Номер эпохи\", fontsize=12)\n",
        "    plt.ylabel(\"Accuracy\", fontsize=12)\n",
        "    for i in range(len(list_train_losses)):\n",
        "        if not list_params:\n",
        "            label = ''\n",
        "        else:\n",
        "            label = f\": {list_params[i]}\"\n",
        "        plt.plot(position, list_train_accuracies[i], linestyle='--', c=colors[i], label=\"train\" + label)\n",
        "        plt.plot(position, list_test_accuracies[i], linestyle='-', c=colors[i], label=\"test\" + label)\n",
        "    plt.ylim((0.05, 0.3))\n",
        "    plt.legend(fontsize=12)\n",
        "    plt.grid()\n",
        "\n",
        "    plt.show()"
      ],
      "metadata": {
        "id": "DhAve0kjTvoF"
      },
      "execution_count": 159,
      "outputs": []
    },
    {
      "cell_type": "markdown",
      "source": [
        "### Датасет"
      ],
      "metadata": {
        "id": "-jbgOBecHlyE"
      }
    },
    {
      "cell_type": "code",
      "execution_count": 139,
      "metadata": {
        "id": "iAvvjcxoOSeD"
      },
      "outputs": [],
      "source": [
        "class LargeMovieReviewDataset(Dataset):\n",
        "    def __init__(self, data_path, vocab, max_len, pad_sos=False, pad_eos=False):\n",
        "        \"\"\"\n",
        "        Класс датасета с обзорами на фильмы.\n",
        "\n",
        "        :param str data_path: Path to folder with one of the data splits (train or test)\n",
        "        :param torchtext.vocab.Vocab vocab: dictionary with lookup_indices method\n",
        "        :param int max_len: Maximum length of tokenized text\n",
        "        :param bool pad_sos: If True pad sequence at the beginning with <sos>\n",
        "        :param bool pad_eos: If True pad sequence at the end with <eos>\n",
        "        \"\"\"\n",
        "        super().__init__()\n",
        "        \n",
        "        self.pad_sos = pad_sos\n",
        "        if self.pad_sos:\n",
        "            self.sos_id = vocab.lookup_indices([\"<sos>\"])[0]\n",
        "        self.pad_eos = pad_eos\n",
        "        if self.pad_eos:\n",
        "            self.eos_id = vocab.lookup_indices([\"<eos>\"])[0]\n",
        "        \n",
        "        self.vocab = vocab\n",
        "        self.max_len = max_len\n",
        "        self.data_path = data_path\n",
        "        self.negative_path = os.path.join(data_path, \"neg\")\n",
        "        self.positive_path = os.path.join(data_path, \"pos\")\n",
        "        \n",
        "        self.negative_paths = []\n",
        "        self.positive_paths = []\n",
        "\n",
        "        for file_path in os.listdir(self.negative_path):\n",
        "            self.negative_paths.append(os.path.join(self.negative_path, file_path))\n",
        "\n",
        "        for file_path in os.listdir(self.positive_path):\n",
        "            self.positive_paths.append(os.path.join(self.positive_path, file_path))\n",
        "        \n",
        "        self.texts = []\n",
        "        self.tokens = []\n",
        "        self.ratings = []\n",
        "        self.labels = [0] * len(self.negative_paths) + [1] * len(self.positive_paths)\n",
        "        \n",
        "        # Read each file in data_path, tokenize it, get tokens ids, its rating and store\n",
        "        for path in self.negative_paths + self.positive_paths:\n",
        "            with open(path) as f:\n",
        "                text = f.read()\n",
        "\n",
        "            tokens = tokenize(text)\n",
        "            tokens_ids = vocab.lookup_indices(tokens)\n",
        "            tokens_ids = tokens_ids[:self.max_len]\n",
        "            i_start = path.rfind('_')\n",
        "            i_end = path.rfind('.')\n",
        "            rating = int(path[i_start + 1: i_end]) - 1\n",
        "\n",
        "            self.texts.append(text)\n",
        "            self.tokens.append(tokens_ids)\n",
        "            self.ratings.append(rating)\n",
        "        \n",
        "    def __getitem__(self, idx):\n",
        "        \"\"\"\n",
        "        :param int idx: index of object in dataset\n",
        "        :return dict: Dictionary with all useful object data\n",
        "            {\n",
        "                'text' str: unprocessed text,\n",
        "                'label' torch.tensor(dtype=torch.long): sentiment of the text (0 for negative, 1 for positive)\n",
        "                'rating' torch.tensor(dtype=torch.long): rating of the text\n",
        "                'tokens' torch.tensor(dtype=torch.long): tensor of tokens ids for the text\n",
        "                'tokens_len' torch.tensor(dtype=torch.long): number of tokens\n",
        "            }\n",
        "        \"\"\"\n",
        "        dict_output = {}\n",
        "        dict_output[\"text\"] = self.texts[idx]\n",
        "        dict_output[\"label\"] = torch.tensor(self.labels[idx], dtype=torch.long)\n",
        "        dict_output[\"rating\"] = torch.tensor(self.ratings[idx], dtype=torch.long)\n",
        "        dict_output[\"tokens\"] = torch.tensor(self.tokens[idx], dtype=torch.long)\n",
        "        if self.pad_sos:\n",
        "            dict_output[\"tokens\"] = torch.tensor([self.sos_id] + dict_output[\"tokens\"].tolist(), dtype=torch.long)\n",
        "        if self.pad_eos:\n",
        "            dict_output[\"tokens\"] = torch.tensor(dict_output[\"tokens\"].tolist() + [self.eos_id], dtype=torch.long)\n",
        "        dict_output[\"tokens_len\"] = torch.tensor(len(dict_output[\"tokens\"]), dtype=torch.long)\n",
        "        \n",
        "        return dict_output\n",
        "    \n",
        "    def __len__(self):\n",
        "        \"\"\"\n",
        "        :return int: number of objects in dataset\n",
        "        \"\"\"\n",
        "        return len(self.texts)"
      ]
    },
    {
      "cell_type": "markdown",
      "source": [
        "### LM"
      ],
      "metadata": {
        "id": "QWfPbX1QH_oe"
      }
    },
    {
      "cell_type": "code",
      "execution_count": 140,
      "metadata": {
        "id": "5KrPJQN9OuqG"
      },
      "outputs": [],
      "source": [
        "class RNNClassifier(nn.Module):\n",
        "    def __init__(\n",
        "        self, embedding_dim, hidden_dim, output_size, vocab,\n",
        "        rec_layer=nn.LSTM, dropout=None, **kwargs\n",
        "    ):\n",
        "        \"\"\"\n",
        "        Класс, реализующий классификатор на RNN.\n",
        "        \"\"\"\n",
        "        super().__init__()\n",
        "\n",
        "        self.dropout = dropout\n",
        "        self.vocab = vocab\n",
        "        self.hidden_dim = hidden_dim\n",
        "        self.output_size = output_size\n",
        "        self.embedding_dim = embedding_dim\n",
        "        \n",
        "        # Create a simple lookup table that stores embeddings of a fixed dictionary and size.\n",
        "        # Use torch.nn.Embedding. Do not forget specify padding_idx!\n",
        "        self.word_embeddings = nn.Embedding(len(self.vocab), self.embedding_dim, padding_idx=0)\n",
        "        \n",
        "        if dropout is not None:\n",
        "            self.rnn = rec_layer(self.embedding_dim, self.hidden_dim, dropout=self.dropout, **kwargs)\n",
        "        else:\n",
        "            self.rnn = rec_layer(self.embedding_dim, self.hidden_dim, **kwargs)\n",
        "        \n",
        "        # Create linear layer for classification\n",
        "        self.linear = nn.Linear(hidden_dim, output_size)\n",
        "    \n",
        "    def forward(self, tokens, tokens_lens):\n",
        "        \"\"\"\n",
        "        :param torch.tensor(dtype=torch.long) tokens: Batch of texts represented with tokens.\n",
        "        :param torch.tensor(dtype=torch.long) tokens_lens: Number of non-padding tokens for each object in batch.\n",
        "        :return torch.tensor(dtype=torch.long): Vector representation for each sequence in batch\n",
        "        \"\"\"\n",
        "        \n",
        "        # tokens: LxB, tokens_lens: B\n",
        "        #  B - batch_size\n",
        "        #  L - max length in batch\n",
        "        #  H_em - self.embedding_dim\n",
        "        #  H_out - self.hidden_dim\n",
        "        #  H_final - self.output_size\n",
        "\n",
        "        # Evaluate embeddings\n",
        "        embeddings = self.word_embeddings(tokens) # LxBxH_em\n",
        "        \n",
        "        # Make forward pass through recurrent network\n",
        "        h_all, (hn, cn) = self.rnn(embeddings) # LxBxH_out, 1xBxH_out, 1xBxH_out\n",
        "        \n",
        "        # Pass output from rnn to linear layer\n",
        "        # Note: each object in batch has its own length \n",
        "        #     so we must take rnn hidden state after the last token for each text in batch\n",
        "        output = self.linear(h_all[tokens_lens - 1, torch.arange(h_all.size(1)), :]) # BxH_final\n",
        "\n",
        "        return output"
      ]
    },
    {
      "cell_type": "code",
      "execution_count": 141,
      "metadata": {
        "id": "p8jUOTAbOu4H"
      },
      "outputs": [],
      "source": [
        "class RNNLM(RNNClassifier):\n",
        "    def __init__(\n",
        "        self, embedding_dim, hidden_dim, vocab, dropout=0.5, layers_dropout=0.5, num_layers=1\n",
        "    ):\n",
        "        \"\"\"\n",
        "        Класс, реализующий языковую модель (LM).\n",
        "        \"\"\"\n",
        "        super().__init__(\n",
        "            embedding_dim=embedding_dim, hidden_dim=hidden_dim, output_size=len(vocab), vocab=vocab,\n",
        "            rec_layer=nn.LSTM, dropout=dropout, num_layers=num_layers\n",
        "        )\n",
        "    \n",
        "    def forward(self, tokens, tokens_lens):\n",
        "        \"\"\"\n",
        "        :param torch.tensor(dtype=torch.long) tokens: Batch of texts represented with tokens. Shape: [T, B]\n",
        "        :param torch.tensor(dtype=torch.long) tokens_lens: Number of non-padding tokens for each object in batch. Shape: [B]\n",
        "        :return torch.tensor: Distribution of next token for each time step. Shape: [T, B, V], V -- size of vocabulary\n",
        "        \"\"\"\n",
        "        # B - batch_size\n",
        "        # T - max length in batch\n",
        "        # H_em - self.embedding_dim\n",
        "        # H_out - self.hidden_dim\n",
        "        # V - size of vocabulary\n",
        "        \n",
        "        # Make embeddings for all tokens\n",
        "        embeddings = self.word_embeddings(tokens) # TxBxH_em\n",
        "        \n",
        "        # Forward pass embeddings through network\n",
        "        h_all, (hn, cn) = self.rnn(embeddings) # TxBxH_out, 1xBxH_out, 1xBxH_out\n",
        "        \n",
        "        # Take all hidden states from the last layer of LSTM for each step and perform linear transformation\n",
        "        output = self.linear(h_all) # TxBxV\n",
        "        \n",
        "        return output"
      ]
    },
    {
      "cell_type": "markdown",
      "source": [
        "### CrossEntropy и Accuracy"
      ],
      "metadata": {
        "id": "MMVFO8tmJsoD"
      }
    },
    {
      "cell_type": "code",
      "execution_count": 142,
      "metadata": {
        "id": "tSZE_V9DfowU"
      },
      "outputs": [],
      "source": [
        "class LMCrossEntropyLoss(nn.CrossEntropyLoss):\n",
        "    def __init__(self, *args, **kwargs):\n",
        "        \"\"\"\n",
        "        Кросс-энтропийная функция потерь для LM.\n",
        "        \"\"\"\n",
        "        super().__init__(*args, **kwargs)\n",
        "        \n",
        "    def forward(self, outputs, tokens, tokens_lens):\n",
        "        \"\"\"\n",
        "        :param torch.tensor outputs: Output from RNNLM.forward. Shape: [T, B, V]\n",
        "        :param torch.tensor tokens: Batch of tokens. Shape: [T, B]\n",
        "        :param torch.tensor tokens_lens: Length of each sequence in batch. Shape: [B]\n",
        "        :return torch.tensor: CrossEntropyLoss between corresponding logits and tokens\n",
        "        \"\"\"\n",
        "        # Use torch.nn.utils.rnn.pack_padded_sequence().data to remove padding and flatten logits and tokens\n",
        "        # Do not forget specify enforce_sorted=False and correct value of batch_first\n",
        "        packed_outputs = pack_padded_sequence(outputs, tokens_lens.cpu() - 1, enforce_sorted=False).data\n",
        "        packed_tokens = pack_padded_sequence(tokens[1:, :], tokens_lens.cpu() - 1, enforce_sorted=False).data\n",
        "        # Use super().forward(..., ...) to compute CrossEntropyLoss\n",
        "        loss = super().forward(packed_outputs, packed_tokens)\n",
        "        return loss"
      ]
    },
    {
      "cell_type": "code",
      "execution_count": 143,
      "metadata": {
        "id": "G3YXe1BXfoyI"
      },
      "outputs": [],
      "source": [
        "class LMAccuracy(torch.nn.Module):\n",
        "    def __init__(self):\n",
        "        \"\"\"\n",
        "        Точности для LM.\n",
        "        \"\"\"\n",
        "        super().__init__()\n",
        "        \n",
        "    def forward(self, outputs, tokens, tokens_lens):\n",
        "        \"\"\"\n",
        "        :param torch.tensor outputs: Output from RNNLM.forward. Shape: [T, B, V]\n",
        "        :param torch.tensor tokens: Batch of tokens. Shape: [T, B]\n",
        "        :param torch.tensor tokens_lens: Length of each sequence in batch. Shape: [B]\n",
        "        :return torch.tensor: Accuracy for given logits and tokens\n",
        "        \"\"\"\n",
        "        # Use torch.nn.utils.rnn.pack_padded_sequence().data to remove padding and flatten logits and tokens\n",
        "        # Do not forget specify enforce_sorted=False and correct value of batch_first\n",
        "        tokens_pred = torch.argmax(outputs, dim=2) # [T, B]\n",
        "        packed_tokens_pred = pack_padded_sequence(tokens_pred, tokens_lens.cpu() - 1, enforce_sorted=False).data\n",
        "        packed_tokens = pack_padded_sequence(tokens[1:, :], tokens_lens.cpu() - 1, enforce_sorted=False).data\n",
        "        acc = torch.sum(packed_tokens_pred == packed_tokens)\n",
        "        return acc"
      ]
    },
    {
      "cell_type": "markdown",
      "source": [
        "### Функции обучения"
      ],
      "metadata": {
        "id": "vC8_etfqKHPu"
      }
    },
    {
      "cell_type": "code",
      "execution_count": 152,
      "metadata": {
        "id": "rxu3o-rqfttx"
      },
      "outputs": [],
      "source": [
        "def train_epoch_lm(dataloader, model, loss_fn, optimizer, device):\n",
        "    \"\"\"\n",
        "    Функция обучения на одной эпохе.\n",
        "    \"\"\"\n",
        "    model.train()\n",
        "    for idx, data in enumerate(dataloader):\n",
        "        optimizer.zero_grad()\n",
        "        \n",
        "        # 1. Take data from batch\n",
        "        tokens = data[\"tokens\"].to(device)\n",
        "        tokens_lens = data[\"tokens_lens\"].to(device)\n",
        "        \n",
        "        # 2. Perform forward pass\n",
        "        outputs = model(tokens, tokens_lens)\n",
        "        \n",
        "        # 3. Evaluate loss\n",
        "        loss = loss_fn(outputs, tokens, tokens_lens)\n",
        "        loss.backward()\n",
        "        \n",
        "        # 4. Make optimizer step\n",
        "        optimizer.step()"
      ]
    },
    {
      "cell_type": "code",
      "source": [
        "def evaluate_lm(dataloader, model, loss_fn, device):\n",
        "    \"\"\"\n",
        "    Функция оценки по одной эпохе.\n",
        "    \"\"\"\n",
        "    model.eval()\n",
        "    \n",
        "    total_tokens = 0\n",
        "    total_loss = 0.0\n",
        "    total_accuracy = 0.0\n",
        "    \n",
        "    accuracy_fn = LMAccuracy()\n",
        "    with torch.no_grad():\n",
        "        for idx, data in enumerate(dataloader):\n",
        "            # 1. Take data from batch\n",
        "            tokens = data[\"tokens\"].to(device)\n",
        "            tokens_lens = data[\"tokens_lens\"].to(device)\n",
        "            \n",
        "            # 2. Perform forward pass\n",
        "            outputs = model(tokens, tokens_lens)\n",
        "            \n",
        "            # 3. Evaluate loss\n",
        "            loss = loss_fn(outputs, tokens, tokens_lens)\n",
        "            total_loss += loss\n",
        "            \n",
        "            # 4. Evaluate accuracy\n",
        "            accuracy = accuracy_fn(outputs, tokens, tokens_lens)\n",
        "            total_accuracy += accuracy\n",
        "            total_tokens += torch.sum(tokens_lens - 1)\n",
        "            \n",
        "    return total_loss / total_tokens, total_accuracy / total_tokens"
      ],
      "metadata": {
        "id": "mNZ46SrFUK83"
      },
      "execution_count": 153,
      "outputs": []
    },
    {
      "cell_type": "code",
      "source": [
        "def train_lm(train_loader, test_loader, model, loss_fn, optimizer, device, num_epochs):\n",
        "    \"\"\"\n",
        "    Функция обучения RNN.\n",
        "    \"\"\"\n",
        "    test_losses = []\n",
        "    train_losses = []\n",
        "    test_accuracies = []\n",
        "    train_accuracies = []\n",
        "    for epoch in range(num_epochs):\n",
        "        train_epoch_lm(train_loader, model, loss_fn, optimizer, device)\n",
        "        \n",
        "        train_loss, train_acc = evaluate_lm(train_loader, model, loss_fn, device)\n",
        "        train_accuracies.append(train_acc.cpu())\n",
        "        train_losses.append(train_loss.cpu())\n",
        "        \n",
        "        test_loss, test_acc = evaluate_lm(test_loader, model, loss_fn, device)\n",
        "        test_accuracies.append(test_acc.cpu())\n",
        "        test_losses.append(test_loss.cpu())\n",
        "        \n",
        "        print(\n",
        "            \"Epoch: {0:d}/{1:d}. Loss (Train/Test): {2:.3f}/{3:.3f}. Accuracy (Train/Test): {4:.3f}/{5:.3f}\".format(\n",
        "                epoch + 1, num_epochs, train_losses[-1], test_losses[-1], train_accuracies[-1], test_accuracies[-1]\n",
        "            )\n",
        "        )\n",
        "    return train_losses, train_accuracies, test_losses, test_accuracies"
      ],
      "metadata": {
        "id": "cjPlDvwZUK--"
      },
      "execution_count": 154,
      "outputs": []
    },
    {
      "cell_type": "markdown",
      "source": [
        "### Декодер"
      ],
      "metadata": {
        "id": "2unODOyJKyMK"
      }
    },
    {
      "cell_type": "code",
      "source": [
        "def decode(model, start_tokens, start_tokens_lens, max_generated_len=20, top_k=None):\n",
        "    \"\"\"\n",
        "    Функция декодирования представлений в текст.\n",
        "\n",
        "    :param RNNLM model: Model\n",
        "    :param torch.tensor start_tokens: Batch of seed tokens. Shape: [T, B]\n",
        "    :param torch.tensor start_tokens_lens: Length of each sequence in batch. Shape: [B]\n",
        "    :return Tuple[torch.tensor, torch.tensor]. Newly predicted tokens and length of generated part. Shape [T*, B], [B]\n",
        "    \"\"\"\n",
        "    # B - batch size\n",
        "    # T - max length in batch for start tokens\n",
        "    # T* - max length in batch for generated tokens\n",
        "    # H_em - model.embedding_dim\n",
        "    # H_hid - model.hidden_dim\n",
        "    # V - size of vocabulary\n",
        "\n",
        "    # Get embedding for start_tokens\n",
        "    embedding = model.word_embeddings(start_tokens) # TxBxH_em\n",
        "    \n",
        "    # Pass embedding through rnn and collect hidden states and cell states for each time moment\n",
        "    all_h, all_c = [], []\n",
        "    h = embedding.new_zeros([model.rnn.num_layers, start_tokens.shape[1], model.hidden_dim]) # (num_layers)xBxH_hid\n",
        "    c = embedding.new_zeros([model.rnn.num_layers, start_tokens.shape[1], model.hidden_dim]) # (num_layers)xBxH_hid\n",
        "    for time_step in range(start_tokens.shape[0]):\n",
        "        h_all, (hn, cn) = model.rnn(embedding[time_step][None, ...]) # 1xBxH_hid, (num_layers)xBxH_hid, (num_layers)xBxH_hid\n",
        "        all_h.append(hn)\n",
        "        all_c.append(cn)\n",
        "    \n",
        "    all_h = torch.stack(all_h, dim=1) # (num_layers)xTxBxH_hid\n",
        "    all_c = torch.stack(all_c, dim=1) # (num_layers)xTxBxH_hid\n",
        "    # Take final hidden state and cell state for each start sequence in batch\n",
        "    # We will use them as h_0, c_0 for generation new tokens\n",
        "    h = all_h[:, start_tokens_lens - 1, torch.arange(start_tokens_lens.shape[0])] # (num_layers)xBxH_hid\n",
        "    c = all_c[:, start_tokens_lens - 1, torch.arange(start_tokens_lens.shape[0])] # (num_layers)xBxH_hid\n",
        "    \n",
        "    # List of predicted tokens for each time step\n",
        "    predicted_tokens = []\n",
        "    # Length of generated part for each object in the batch\n",
        "    decoded_lens = torch.zeros_like(start_tokens_lens, dtype=torch.long) # B\n",
        "    # Boolean mask where we store if the sequence has already generated\n",
        "    # i.e. `<eos>` was selected on any step\n",
        "    is_finished_decoding = torch.zeros_like(start_tokens_lens, dtype=torch.bool) # B\n",
        "    \n",
        "    # Stop when all sequences in the batch are finished\n",
        "    while not torch.all(is_finished_decoding) and torch.max(decoded_lens) < max_generated_len:\n",
        "        # Evaluate next token distribution using hidden state h.\n",
        "        # Note. Over first dimension h has hidden states for each layer of LSTM.\n",
        "        #     We must use hidden state from the last layer\n",
        "        logits = softmax(model.linear(h[1]), dim=1) # BxV\n",
        "        \n",
        "        if top_k is not None:\n",
        "            # Top-k sampling. Use only top-k most probable logits to sample next token\n",
        "            indices_to_remove = logits < torch.topk(logits, top_k)[0][..., -1, None]\n",
        "            # Mask non top-k logits\n",
        "            logits[indices_to_remove] = 0\n",
        "            # Sample next_token. \n",
        "            next_token = torch.multinomial(logits, 1)[:,0]\n",
        "        else:\n",
        "            # Select most probable token\n",
        "            next_token = torch.argmax(logits, dim=1) # B\n",
        "            \n",
        "        predicted_tokens.append(next_token)\n",
        "        \n",
        "        decoded_lens += (~is_finished_decoding)\n",
        "        is_finished_decoding |= (next_token == torch.tensor(model.vocab.lookup_indices([\"<eos>\"])[0]))\n",
        "\n",
        "        # Evaluate embedding for next token\n",
        "        embedding = model.word_embeddings(next_token.reshape((1, -1))) # 1xBxH_em\n",
        "\n",
        "        # Update hidden and cell states\n",
        "        h_all, (h, c) = model.rnn(embedding, (h, c)) # 1xBxH_hid, (num_layers)xBxH_hid, (num_layers)xBxH_hid\n",
        "\n",
        "    return torch.stack(predicted_tokens), decoded_lens # (T*)xB, B"
      ],
      "metadata": {
        "id": "ygwE4-5mK1vL"
      },
      "execution_count": 147,
      "outputs": []
    },
    {
      "cell_type": "markdown",
      "source": [
        "### Обчение и применение LM"
      ],
      "metadata": {
        "id": "cQeV6jYeKn3J"
      }
    },
    {
      "cell_type": "code",
      "source": [
        "# Гиперпараметры\n",
        "max_length = 20\n",
        "top_n_words = 30000\n",
        "max_generated_len = 20\n",
        "\n",
        "hidden_dim = 512\n",
        "embedding_dim = 512\n",
        "\n",
        "num_layers = 2\n",
        "dropout = 0.6\n",
        "layers_dropout = 0.6\n",
        "\n",
        "num_epochs = 12\n",
        "batch_size = 96\n",
        "learning_rate = 0.005\n",
        "weight_decay = 1.2e-6"
      ],
      "metadata": {
        "id": "g70ygmhF8w2b"
      },
      "execution_count": 148,
      "outputs": []
    },
    {
      "cell_type": "code",
      "execution_count": 149,
      "metadata": {
        "id": "RgjaCyf5ftwK"
      },
      "outputs": [],
      "source": [
        "# Словарь с частотами встречаемости токенов\n",
        "counter = defaultdict(int)\n",
        "for path in [\"aclImdb/test/neg\", \"aclImdb/test/pos\", \"aclImdb/train/neg\", \"aclImdb/train/pos\"]:\n",
        "    for file_path in os.listdir(path):\n",
        "        text = open(os.path.join(path, file_path), 'r', encoding=\"utf-8\", errors=\"ignore\").read().strip()\n",
        "        for token in tokenize(text):\n",
        "            counter[token] += 1\n",
        "\n",
        "# Отбрасывание низкочастотных слов\n",
        "lm_counter = dict(sorted(counter.items(), key=lambda x: x[1], reverse=True)[:top_n_words])\n",
        "\n",
        "# Специальные токены\n",
        "specials = [\"<pad>\", \"<unk>\", \"<sos>\", \"<eos>\"]\n",
        "for special in specials:\n",
        "    lm_counter[special] = 0\n",
        "\n",
        "# Итоговый словарь\n",
        "lm_vocab = torchtext.vocab.vocab(lm_counter, specials=specials, special_first=True)\n",
        "lm_vocab.set_default_index(lm_vocab[\"<unk>\"])"
      ]
    },
    {
      "cell_type": "code",
      "execution_count": 150,
      "metadata": {
        "id": "Ht-IqsOSftyF"
      },
      "outputs": [],
      "source": [
        "# Датасеты, даталоадеры\n",
        "lm_test_dataset = LargeMovieReviewDataset(test_data_path, lm_vocab, max_len=max_length, pad_sos=True, pad_eos=True)\n",
        "lm_train_dataset = LargeMovieReviewDataset(train_data_path, lm_vocab, max_len=max_length, pad_sos=True, pad_eos=True)\n",
        "\n",
        "\n",
        "lm_test_dataloader = DataLoader(\n",
        "    lm_test_dataset, batch_size=batch_size, shuffle=False, num_workers=0,\n",
        "    collate_fn=partial(collate_fn, padding_value=lm_vocab.lookup_indices([\"<pad>\"])[0])\n",
        ")\n",
        "lm_train_dataloader = DataLoader(\n",
        "    lm_train_dataset, batch_size=batch_size, shuffle=True, num_workers=0,\n",
        "    collate_fn=partial(collate_fn, padding_value=lm_vocab.lookup_indices([\"<pad>\"])[0])\n",
        ")"
      ]
    },
    {
      "cell_type": "code",
      "execution_count": null,
      "metadata": {
        "id": "C6RqV1Upft5c"
      },
      "outputs": [],
      "source": [
        "# Модель, ф-ция потерь, оптимизатор\n",
        "lm_model = RNNLM(\n",
        "    embedding_dim=embedding_dim, hidden_dim=hidden_dim, vocab=lm_vocab,\n",
        "    dropout=dropout, layers_dropout=layers_dropout, num_layers=num_layers\n",
        ").to(device=device)\n",
        "\n",
        "lm_loss_fn = LMCrossEntropyLoss(reduction=\"sum\")\n",
        "lm_optimizer = torch.optim.Adam(lm_model.parameters(), lr=learning_rate, weight_decay=weight_decay)"
      ]
    },
    {
      "cell_type": "code",
      "execution_count": null,
      "metadata": {
        "id": "nme2fh7Qf5EY",
        "colab": {
          "base_uri": "https://localhost:8080/"
        },
        "outputId": "1c78b480-3305-4936-8b5f-37cf3ab071d0"
      },
      "outputs": [
        {
          "output_type": "stream",
          "name": "stdout",
          "text": [
            "Epoch: 1/12. Loss (Train/Test): 7.423/7.602. Accuracy (Train/Test): 0.091/0.091\n",
            "Epoch: 2/12. Loss (Train/Test): 7.245/7.525. Accuracy (Train/Test): 0.099/0.098\n",
            "Epoch: 3/12. Loss (Train/Test): 7.042/7.438. Accuracy (Train/Test): 0.105/0.104\n",
            "Epoch: 4/12. Loss (Train/Test): 6.910/7.437. Accuracy (Train/Test): 0.108/0.106\n",
            "Epoch: 5/12. Loss (Train/Test): 6.693/7.398. Accuracy (Train/Test): 0.112/0.108\n",
            "Epoch: 6/12. Loss (Train/Test): 6.524/7.416. Accuracy (Train/Test): 0.115/0.110\n",
            "Epoch: 7/12. Loss (Train/Test): 6.362/7.475. Accuracy (Train/Test): 0.118/0.111\n",
            "Epoch: 8/12. Loss (Train/Test): 6.182/7.525. Accuracy (Train/Test): 0.121/0.112\n",
            "Epoch: 9/12. Loss (Train/Test): 6.018/7.591. Accuracy (Train/Test): 0.126/0.113\n",
            "Epoch: 10/12. Loss (Train/Test): 5.831/7.683. Accuracy (Train/Test): 0.132/0.113\n",
            "Epoch: 11/12. Loss (Train/Test): 5.660/7.781. Accuracy (Train/Test): 0.142/0.112\n",
            "Epoch: 12/12. Loss (Train/Test): 5.489/7.882. Accuracy (Train/Test): 0.156/0.112\n",
            "Время обучения: 5m 30s\n"
          ]
        }
      ],
      "source": [
        "# Обучение\n",
        "start_time = time.time()\n",
        "lm_train_losses, lm_train_accuracies, lm_test_losses, lm_test_accuracies = train_lm(\n",
        "    lm_train_dataloader, lm_test_dataloader, lm_model, lm_loss_fn, lm_optimizer, device, num_epochs\n",
        ")\n",
        "train_time_lm = time.time() - start_time\n",
        "print(f\"Время обучения: {train_time_lm // 60:.0f}m {train_time_lm % 60:.0f}s\")"
      ]
    },
    {
      "cell_type": "code",
      "source": [
        "# Вывод графиков\n",
        "print_graphic([lm_train_losses], [lm_train_accuracies], [lm_test_losses], [lm_test_accuracies])"
      ],
      "metadata": {
        "colab": {
          "base_uri": "https://localhost:8080/",
          "height": 518
        },
        "id": "Iae4FYvyXqFR",
        "outputId": "2f3ec0c6-ac95-4556-d0c7-b04aa39cd62b"
      },
      "execution_count": null,
      "outputs": [
        {
          "output_type": "display_data",
          "data": {
            "text/plain": [
              "<Figure size 1440x576 with 2 Axes>"
            ],
            "image/png": "[encoded data removed]"
          },
          "metadata": {
            "needs_background": "light"
          }
        }
      ]
    },
    {
      "cell_type": "code",
      "execution_count": null,
      "metadata": {
        "id": "GDFxtHD2f6pF"
      },
      "outputs": [],
      "source": [
        "# Примеры начала предложений\n",
        "start_tokens = torch.tensor([\n",
        "    lm_model.vocab.lookup_indices([\"<sos>\", \"<pad>\", \"<pad>\", \"<pad>\"]),\n",
        "    lm_model.vocab.lookup_indices([\"<sos>\", \"my\", \"favorite\", \"movie\"]),\n",
        "    lm_model.vocab.lookup_indices([\"<sos>\", \"the\", \"best\", \"movie\"]),\n",
        "    lm_model.vocab.lookup_indices([\"<sos>\", \"the\", \"worst\", \"movie\"]),\n",
        "    lm_model.vocab.lookup_indices([\"<sos>\", \"my\", \"name\", \"is\"]),\n",
        "    lm_model.vocab.lookup_indices([\"<sos>\", \"i\", \"live\", \"in\"]),\n",
        "    lm_model.vocab.lookup_indices([\"<sos>\", \"i\", \"love\", \"<pad>\"]),\n",
        "]).T\n",
        "\n",
        "start_tokens_lens = torch.tensor([1, 4, 4, 4, 4, 4, 3])"
      ]
    },
    {
      "cell_type": "code",
      "source": [
        "# Стратегия жадного декодирования\n",
        "device = \"cpu\"\n",
        "lm_model = lm_model.cpu()\n",
        "lm_model.eval()\n",
        "decoded_tokens, decoded_lens = decode(lm_model, start_tokens, start_tokens_lens,\n",
        "                                      max_generated_len=max_generated_len, top_k=None)\n",
        "print_text(lm_model, start_tokens, start_tokens_lens, decoded_tokens, decoded_lens)"
      ],
      "metadata": {
        "colab": {
          "base_uri": "https://localhost:8080/"
        },
        "id": "qCNByswe9gyY",
        "outputId": "91f9c5e9-b761-4cf2-8a48-a548ed6ee964"
      },
      "execution_count": null,
      "outputs": [
        {
          "output_type": "stream",
          "name": "stdout",
          "text": [
            "<sos> movie bad acting bad acting bad acting bad acting bad bad bad bad bad bad bad bad bad bad bad\n",
            "<sos> <unk> favorite movie really bad <eos>\n",
            "<sos> <unk> best movie really bad <eos>\n",
            "<sos> <unk> worst movie really bad <eos>\n",
            "<sos> <unk> name <unk> <unk> <eos>\n",
            "<sos> <unk> live <unk> <unk> <eos>\n",
            "<sos> <unk> love film <eos>\n"
          ]
        }
      ]
    },
    {
      "cell_type": "code",
      "execution_count": null,
      "metadata": {
        "id": "YPgcvTGNf6r3",
        "colab": {
          "base_uri": "https://localhost:8080/"
        },
        "outputId": "0c889069-866d-45fe-c235-bf60988041f7"
      },
      "outputs": [
        {
          "output_type": "stream",
          "name": "stdout",
          "text": [
            "<sos> <unk> <unk> <unk> <unk> <unk> film made hohum <unk> <unk> <unk> <unk> del <unk> <unk> <unk> <unk> <unk> shinji <unk>\n",
            "<sos> <unk> favorite movie starts special affects <eos>\n",
            "<sos> <unk> best movie starts line <eos>\n",
            "<sos> <unk> worst movie made <eos>\n",
            "<sos> <unk> name <unk> <unk> <unk> <eos>\n",
            "<sos> <unk> live <unk> see film <eos>\n",
            "<sos> <unk> love movie really <eos>\n"
          ]
        }
      ],
      "source": [
        "# Стратегия Top-k sampling с top_k=5\n",
        "device = \"cpu\"\n",
        "lm_model = lm_model.cpu()\n",
        "lm_model.eval()\n",
        "decoded_tokens, decoded_lens = decode(lm_model, start_tokens, start_tokens_lens,\n",
        "                                      max_generated_len=max_generated_len, top_k=5)\n",
        "print_text(lm_model, start_tokens, start_tokens_lens, decoded_tokens, decoded_lens)"
      ]
    },
    {
      "cell_type": "code",
      "execution_count": null,
      "metadata": {
        "id": "U5xAOKx4f6wx",
        "colab": {
          "base_uri": "https://localhost:8080/"
        },
        "outputId": "5e5509a6-e14b-4457-936a-d13cc2b37bb5"
      },
      "outputs": [
        {
          "output_type": "stream",
          "name": "stdout",
          "text": [
            "<sos> <unk> <unk> <unk> <unk> <unk> made one thing prevents misleading movie starts well made movie really <unk> movie one worst\n",
            "<sos> <unk> favorite movie <unk> story <eos>\n",
            "<sos> <unk> best movie based us <eos>\n",
            "<sos> <unk> worst movie ever <eos>\n",
            "<sos> <unk> name <unk> would seem <eos>\n",
            "<sos> <unk> live <unk> movie laden <eos>\n",
            "<sos> <unk> love films like <eos>\n"
          ]
        }
      ],
      "source": [
        "# Стратегия Top-k sampling с top_k=10\n",
        "device = \"cpu\"\n",
        "lm_model = lm_model.cpu()\n",
        "lm_model.eval()\n",
        "decoded_tokens, decoded_lens = decode(lm_model, start_tokens, start_tokens_lens,\n",
        "                                      max_generated_len=max_generated_len, top_k=10)\n",
        "print_text(lm_model, start_tokens, start_tokens_lens, decoded_tokens, decoded_lens)"
      ]
    },
    {
      "cell_type": "code",
      "source": [
        "# Стратегия Top-k sampling с top_k=20\n",
        "device = \"cpu\"\n",
        "lm_model = lm_model.cpu()\n",
        "lm_model.eval()\n",
        "decoded_tokens, decoded_lens = decode(lm_model, start_tokens, start_tokens_lens,\n",
        "                                      max_generated_len=max_generated_len, top_k=20)\n",
        "print_text(lm_model, start_tokens, start_tokens_lens, decoded_tokens, decoded_lens)"
      ],
      "metadata": {
        "colab": {
          "base_uri": "https://localhost:8080/"
        },
        "id": "d_raYEDH9vmH",
        "outputId": "82fdaf03-ef48-42b1-a0df-3d66e6ea0e70"
      },
      "execution_count": null,
      "outputs": [
        {
          "output_type": "stream",
          "name": "stdout",
          "text": [
            "<sos> saw movie tonight still liked movie watched first scene <unk> great actors like movie makes laugh cry time would think\n",
            "<sos> <unk> favorite movie would like <eos>\n",
            "<sos> <unk> best movie really disappointed <eos>\n",
            "<sos> <unk> worst movie <unk> one <eos>\n",
            "<sos> <unk> name <unk> <unk> <unk> <eos>\n",
            "<sos> <unk> live <unk> first film <eos>\n",
            "<sos> <unk> love director knows <eos>\n"
          ]
        }
      ]
    },
    {
      "cell_type": "code",
      "source": [
        "# Стратегия Top-k sampling с top_k=50\n",
        "device = \"cpu\"\n",
        "lm_model = lm_model.cpu()\n",
        "lm_model.eval()\n",
        "decoded_tokens, decoded_lens = decode(lm_model, start_tokens, start_tokens_lens,\n",
        "                                      max_generated_len=max_generated_len, top_k=50)\n",
        "print_text(lm_model, start_tokens, start_tokens_lens, decoded_tokens, decoded_lens)"
      ],
      "metadata": {
        "colab": {
          "base_uri": "https://localhost:8080/"
        },
        "id": "n562HsbO9xLF",
        "outputId": "82d70783-a606-4768-db45-8a4e2d8deb52"
      },
      "execution_count": null,
      "outputs": [
        {
          "output_type": "stream",
          "name": "stdout",
          "text": [
            "<sos> thought really enjoyed film <unk> <unk> story <unk> <unk> starts <unk> <unk> <unk> <unk> <unk> replaces film really annoying well\n",
            "<sos> <unk> favorite movie set impressionable <eos>\n",
            "<sos> <unk> best movie didnt care <eos>\n",
            "<sos> <unk> worst movie never never <eos>\n",
            "<sos> <unk> name <unk> always saying <eos>\n",
            "<sos> <unk> live <unk> <unk> pa <eos>\n",
            "<sos> <unk> love television series <eos>\n"
          ]
        }
      ]
    },
    {
      "cell_type": "markdown",
      "source": [
        "**Комментарий:** Результаты с использованием top-k получаются более полными, чем с жадным декодированием, которое быстро заканчивает предложения выше. Объясняется это высокой вероятностью немногочисленного кол-ва слов и невозможностью увидеть более вероятные последовательности слов. При этом, увеличивая top-k до некоторого значения, мы будем всё время улучшать выдаваемые предложения, которые будут становиться более богатыми и разнообразными, однако если взять слишком большое значение, то все предложения станут слишком общими. Далее будем использовать top-k, равный 10."
      ],
      "metadata": {
        "id": "IgXJVOxSUMai"
      }
    },
    {
      "cell_type": "markdown",
      "source": [
        "### Эксперименты"
      ],
      "metadata": {
        "id": "Jcrrj1hz6HlR"
      }
    },
    {
      "cell_type": "markdown",
      "source": [
        "#### Число слоёв"
      ],
      "metadata": {
        "id": "ffVbGXQx6Ubn"
      }
    },
    {
      "cell_type": "code",
      "source": [
        "device"
      ],
      "metadata": {
        "colab": {
          "base_uri": "https://localhost:8080/",
          "height": 35
        },
        "id": "fWoRL4qIQ7pI",
        "outputId": "8316bc4f-0aaf-4923-bd5a-51527580375b"
      },
      "execution_count": 151,
      "outputs": [
        {
          "output_type": "execute_result",
          "data": {
            "text/plain": [
              "'cuda:0'"
            ],
            "application/vnd.google.colaboratory.intrinsic+json": {
              "type": "string"
            }
          },
          "metadata": {},
          "execution_count": 151
        }
      ]
    },
    {
      "cell_type": "code",
      "source": [
        "# Гиперпараметры\n",
        "list_num_layers = [1, 2, 3, 4] # 4\n",
        "\n",
        "list_lm_train_losses = []\n",
        "list_lm_train_accuracies = []\n",
        "list_lm_test_losses = []\n",
        "list_lm_test_accuracies = []\n",
        "list_times = []\n",
        "for num_layers in list_num_layers:\n",
        "    # Модель, ф-ция потерь, оптимизатор\n",
        "    lm_model = RNNLM(\n",
        "        embedding_dim=embedding_dim, hidden_dim=hidden_dim, vocab=lm_vocab,\n",
        "        dropout=dropout, layers_dropout=layers_dropout, num_layers=num_layers\n",
        "    ).to(device=device)\n",
        "    lm_loss_fn = LMCrossEntropyLoss(reduction=\"sum\")\n",
        "    lm_optimizer = torch.optim.Adam(lm_model.parameters(), lr=learning_rate, weight_decay=weight_decay)\n",
        "\n",
        "    # Обучение\n",
        "    start_time = time.time()\n",
        "    lm_train_losses, lm_train_accuracies, lm_test_losses, lm_test_accuracies = train_lm(\n",
        "        lm_train_dataloader, lm_test_dataloader, lm_model, lm_loss_fn, lm_optimizer, device, num_epochs\n",
        "    )\n",
        "    train_time_lm = time.time() - start_time\n",
        "    print(f\"Время обучения: {train_time_lm // 60:.0f}m {train_time_lm % 60:.0f}s\")\n",
        "\n",
        "    list_lm_train_losses.append(lm_train_losses)\n",
        "    list_lm_train_accuracies.append(lm_train_accuracies)\n",
        "    list_lm_test_losses.append(lm_test_losses)\n",
        "    list_lm_test_accuracies.append(lm_test_accuracies)\n",
        "    list_times.append(train_time_lm)"
      ],
      "metadata": {
        "id": "2jFiH_Zr-Vqa"
      },
      "execution_count": null,
      "outputs": []
    },
    {
      "cell_type": "code",
      "source": [
        "# Вывод графиков\n",
        "print_graphic(list_lm_train_losses, list_lm_train_accuracies, list_lm_test_losses,\n",
        "              list_lm_test_accuracies, list_num_layers)"
      ],
      "metadata": {
        "id": "CaAG4sP8_oDY",
        "colab": {
          "base_uri": "https://localhost:8080/",
          "height": 518
        },
        "outputId": "bea9bd24-0591-43c8-a8fe-d4eec4432f1b"
      },
      "execution_count": 160,
      "outputs": [
        {
          "output_type": "display_data",
          "data": {
            "text/plain": [
              "<Figure size 1440x576 with 2 Axes>"
            ],
            "image/png": "[encoded data removed]"
          },
          "metadata": {
            "needs_background": "light"
          }
        }
      ]
    },
    {
      "cell_type": "code",
      "source": [
        "# Примеры начала предложений\n",
        "start_tokens = torch.tensor([\n",
        "    lm_model.vocab.lookup_indices([\"<sos>\", \"<pad>\", \"<pad>\", \"<pad>\"]),\n",
        "    lm_model.vocab.lookup_indices([\"<sos>\", \"my\", \"favorite\", \"movie\"]),\n",
        "    lm_model.vocab.lookup_indices([\"<sos>\", \"the\", \"best\", \"movie\"]),\n",
        "    lm_model.vocab.lookup_indices([\"<sos>\", \"the\", \"worst\", \"movie\"]),\n",
        "    lm_model.vocab.lookup_indices([\"<sos>\", \"my\", \"name\", \"is\"]),\n",
        "    lm_model.vocab.lookup_indices([\"<sos>\", \"i\", \"live\", \"in\"]),\n",
        "    lm_model.vocab.lookup_indices([\"<sos>\", \"i\", \"love\", \"<pad>\"]),\n",
        "]).T\n",
        "\n",
        "start_tokens_lens = torch.tensor([1, 4, 4, 4, 4, 4, 3])"
      ],
      "metadata": {
        "id": "5p24sYqkUvmq"
      },
      "execution_count": null,
      "outputs": []
    },
    {
      "cell_type": "code",
      "source": [
        "# Стратегия Top-k sampling с top_k=10\n",
        "device = \"cpu\"\n",
        "lm_model = lm_model.cpu()\n",
        "lm_model.eval()\n",
        "decoded_tokens, decoded_lens = decode(lm_model, start_tokens, start_tokens_lens,\n",
        "                                      max_generated_len=max_generated_len, top_k=10)\n",
        "print_text(lm_model, start_tokens, start_tokens_lens, decoded_tokens, decoded_lens)"
      ],
      "metadata": {
        "id": "CXIdOB-GVK3j"
      },
      "execution_count": null,
      "outputs": []
    },
    {
      "cell_type": "markdown",
      "source": [
        "**Комментарий:** Лучшая глубина равна 2."
      ],
      "metadata": {
        "id": "4ZbNqVjQWAi7"
      }
    },
    {
      "cell_type": "markdown",
      "source": [
        "#### Размер скрытого представления"
      ],
      "metadata": {
        "id": "N8DbdPSL6eFy"
      }
    },
    {
      "cell_type": "code",
      "source": [
        "# Гиперпараметры\n",
        "device = \"cuda:0\"\n",
        "num_layers = 2\n",
        "list_hidden_dim = [128, 256, 512, 1024] # 4\n",
        "\n",
        "list_lm_train_losses = []\n",
        "list_lm_train_accuracies = []\n",
        "list_lm_test_losses = []\n",
        "list_lm_test_accuracies = []\n",
        "list_times = []\n",
        "for hidden_dim in list_hidden_dim:\n",
        "    # Даталоадеры\n",
        "    lm_test_dataloader = DataLoader(\n",
        "        lm_test_dataset, batch_size=batch_size, shuffle=False, num_workers=0,\n",
        "        collate_fn=partial(collate_fn, padding_value=lm_vocab.lookup_indices([\"<pad>\"])[0])\n",
        "    )\n",
        "    lm_train_dataloader = DataLoader(\n",
        "        lm_train_dataset, batch_size=batch_size, shuffle=True, num_workers=0,\n",
        "        collate_fn=partial(collate_fn, padding_value=lm_vocab.lookup_indices([\"<pad>\"])[0])\n",
        "    )\n",
        "\n",
        "    # Модель, ф-ция потерь, оптимизатор\n",
        "    lm_model = RNNLM(\n",
        "        embedding_dim=embedding_dim, hidden_dim=hidden_dim, vocab=lm_vocab,\n",
        "        dropout=dropout, layers_dropout=layers_dropout, num_layers=num_layers\n",
        "    ).to(device=device)\n",
        "    lm_loss_fn = LMCrossEntropyLoss(reduction=\"sum\")\n",
        "    lm_optimizer = torch.optim.Adam(lm_model.parameters(), lr=learning_rate, weight_decay=weight_decay)\n",
        "\n",
        "    # Обучение\n",
        "    start_time = time.time()\n",
        "    lm_train_losses, lm_train_accuracies, lm_test_losses, lm_test_accuracies = train_lm(\n",
        "        lm_train_dataloader, lm_test_dataloader, lm_model, lm_loss_fn, lm_optimizer, device, num_epochs\n",
        "    )\n",
        "    train_time_lm = time.time() - start_time\n",
        "    print(f\"Время обучения: {train_time_lm // 60:.0f}m {train_time_lm % 60:.0f}s\")\n",
        "\n",
        "    list_lm_train_losses.append(lm_train_losses)\n",
        "    list_lm_train_accuracies.append(lm_train_accuracies)\n",
        "    list_lm_test_losses.append(lm_test_losses)\n",
        "    list_lm_test_accuracies.append(lm_test_accuracies)\n",
        "    list_times.append(train_time_lm)"
      ],
      "metadata": {
        "id": "x_Id8JdU6mEx"
      },
      "execution_count": null,
      "outputs": []
    },
    {
      "cell_type": "code",
      "source": [
        "# Вывод графиков\n",
        "print_graphic(list_lm_train_losses, list_lm_train_accuracies, list_lm_test_losses,\n",
        "              list_lm_test_accuracies, list_hidden_dim)"
      ],
      "metadata": {
        "id": "Hwl3Q_VP_uUZ"
      },
      "execution_count": null,
      "outputs": []
    },
    {
      "cell_type": "code",
      "source": [
        "# Примеры начала предложений\n",
        "start_tokens = torch.tensor([\n",
        "    lm_model.vocab.lookup_indices([\"<sos>\", \"<pad>\", \"<pad>\", \"<pad>\"]),\n",
        "    lm_model.vocab.lookup_indices([\"<sos>\", \"my\", \"favorite\", \"movie\"]),\n",
        "    lm_model.vocab.lookup_indices([\"<sos>\", \"the\", \"best\", \"movie\"]),\n",
        "    lm_model.vocab.lookup_indices([\"<sos>\", \"the\", \"worst\", \"movie\"]),\n",
        "    lm_model.vocab.lookup_indices([\"<sos>\", \"my\", \"name\", \"is\"]),\n",
        "    lm_model.vocab.lookup_indices([\"<sos>\", \"i\", \"live\", \"in\"]),\n",
        "    lm_model.vocab.lookup_indices([\"<sos>\", \"i\", \"love\", \"<pad>\"]),\n",
        "]).T\n",
        "\n",
        "start_tokens_lens = torch.tensor([1, 4, 4, 4, 4, 4, 3])"
      ],
      "metadata": {
        "id": "xlyWo8jnVKEm"
      },
      "execution_count": null,
      "outputs": []
    },
    {
      "cell_type": "code",
      "source": [
        "# Стратегия Top-k sampling с top_k=10\n",
        "device = \"cpu\"\n",
        "lm_model = lm_model.cpu()\n",
        "lm_model.eval()\n",
        "decoded_tokens, decoded_lens = decode(lm_model, start_tokens, start_tokens_lens,\n",
        "                                      max_generated_len=max_generated_len, top_k=10)\n",
        "print_text(lm_model, start_tokens, start_tokens_lens, decoded_tokens, decoded_lens)"
      ],
      "metadata": {
        "id": "ftWXZ4bpVKGc"
      },
      "execution_count": null,
      "outputs": []
    },
    {
      "cell_type": "markdown",
      "source": [
        "**Комментарий:**"
      ],
      "metadata": {
        "id": "4r53BUh5WBMV"
      }
    },
    {
      "cell_type": "markdown",
      "source": [
        "**Вывод:**\n",
        "* Реализована LM на базе **LSTM**.\n",
        "* Произведены эксперименты с разными гиперпараметрами:\n",
        "    * размерность эмбединга;\n",
        "    * число слоёв.\n",
        "* Получены численные и качественные сравнения генерируемого текста."
      ],
      "metadata": {
        "id": "7x19KdaZTNej"
      }
    }
  ],
  "metadata": {
    "accelerator": "GPU",
    "colab": {
      "collapsed_sections": [
        "H0VD72RykAPI",
        "9i_l1EL6I-I0",
        "-jbgOBecHlyE",
        "QWfPbX1QH_oe",
        "MMVFO8tmJsoD",
        "vC8_etfqKHPu",
        "2unODOyJKyMK",
        "cQeV6jYeKn3J"
      ],
      "machine_shape": "hm",
      "name": "DL_task_2.ipynb",
      "provenance": []
    },
    "kernelspec": {
      "display_name": "Python 3",
      "name": "python3"
    },
    "language_info": {
      "name": "python"
    }
  },
  "nbformat": 4,
  "nbformat_minor": 0
}